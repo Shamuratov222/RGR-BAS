{
  "metadata": {
    "language_info": {
      "codemirror_mode": {
        "name": "python",
        "version": 3
      },
      "file_extension": ".py",
      "mimetype": "text/x-python",
      "name": "python",
      "nbconvert_exporter": "python",
      "pygments_lexer": "ipython3",
      "version": "3.8"
    },
    "kernelspec": {
      "name": "python",
      "display_name": "Pyolite",
      "language": "python"
    }
  },
  "nbformat_minor": 4,
  "nbformat": 4,
  "cells": [
    {
      "cell_type": "code",
      "source": "",
      "metadata": {},
      "execution_count": null,
      "outputs": []
    },
    {
      "cell_type": "markdown",
      "source": "# **Греческий алфавит средствами Markdown**\n---\n\n| Прописные  | Строчные | Название|Name|\n| :---:  |:-----:|:-----:|:-----:|\n|A |$\\alpha$| Альфа | Alpha |\n|B| $\\beta$| Бета | Beta |\n|$\\Gamma$| $\\gamma$| Гамма | Gamma |\n|$\\Delta$|$\\delta$| Дельта | Delta |\n|E|$\\epsilon$|Эпсилон | Epsilon |\n|Z|$\\zeta$| Дзета | Zeta |\n|H|$\\eta$| Эта | Eta |\n|$\\Theta$|$\\theta$| Тета | Theta |\n|I|$\\iota$| Йота | Iota |\n|K|$\\kappa$| Каппа | Kappa |\n|$\\Lambda$|$\\lambda$|Лямбда|Lambda|\n|M|$\\mu$|Мю|Mu|\n|N|$\\nu$|Ню|Nu|\n|$\\Xi$|$\\xi$|Кси|Xi|\n|O|$\\omicron$|Омикрон|Omicron|\n|$\\Pi$|$\\pi$|Пи|Pi|\n|P|$\\rho$|Ро|Rho|\n|$\\Sigma$|$\\sigma$|Сигма|Sigma|\n|T|$\\tau$|Тау|Tau|\n|$\\Upsilon$|$\\upsilon$|Ипсилон|Upsilon|\n|$\\Phi$|$\\phi$|Фи|Phi|\n|X|$\\chi$|Хи|Chi|\n|$\\Psi$|$\\psi$|Пси|Psi|\n|$\\Omega$|$\\omega$|Омега|Omega|\n\n---",
      "metadata": {}
    },
    {
      "cell_type": "markdown",
      "source": "# **Греческий алфавит с помощью TeX**\n---\n---\n\\begin{array}{ccc}                              \n|\\text{ПРОПИСНЫЕ}|&|\\text{СТРОЧНЫЕ}|                \n&|\\text{НАЗВАНИЕ}|\\\\                               \n \\text{Α}&{α}&Альфа\\\\                           \n \\text{Β}&{β}&Бета\\\\\n \\text{Γ}&{γ}&Гамма \\\\\n \\text{Δ}&{δ}&Дельта \\\\\n \\text{Ε}&{ϵ}&Эпсилон \\\\\n \\text{Ζ}&{ζ}&Дзета \\\\\n \\text{Η}&{η}&Эта  \\\\\n \\text{Θ}&{θ}&Тета\\\\\n \\text{Ι}&{ι}&Йота\\\\\n \\text{Κ}&{κ}&Каппа   \\\\\n \\text{Λ}&{λ}&Лямбда \\\\\n \\text{M}&{μ}&Мю \\\\\n \\text{Ν}&{ν}&Ню  \\\\\n \\text{Ξ}&{ξ}&Кси  \\\\\n \\text{O}&{o}&Омикрон \\\\\n \\text{Π}&{π}&Пи  \\\\\n \\text{Ρ}&{ρ}&Ро   \\\\\n \\text{Σ}&{σ}&Сигма   \\\\\n \\text{Τ}&{τ}&Тау   \\\\\n \\text{Υ}&{υ}&Ипсилон   \\\\\n \\text{Φ}&{ϕ}&Фи  \\\\\n \\text{Χ}&{χ}&Хи   \\\\\n \\text{Ψ}&{ψ}&Пси   \\\\\n \\text{Ω}&{ω}&Омега  \\\\\n \\end{array}\n---\n---",
      "metadata": {}
    },
    {
      "cell_type": "markdown",
      "source": "Формула нормального распределения на LaTex\n  \\begin{eqnarray}\n {\\displaystyle f(x)={\\frac{1}{\\sigma{\\sqrt{2\\pi}}}}e^{-{\\frac{1}{2}}\\left({\\frac{x-\\mu}{\\sigma}}\\right)^{2}}}\n  \\end{eqnarray}\n     ",
      "metadata": {}
    },
    {
      "cell_type": "code",
      "source": "",
      "metadata": {},
      "execution_count": null,
      "outputs": []
    }
  ]
}